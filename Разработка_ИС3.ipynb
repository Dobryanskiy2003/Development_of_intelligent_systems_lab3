{
  "nbformat": 4,
  "nbformat_minor": 0,
  "metadata": {
    "colab": {
      "provenance": []
    },
    "kernelspec": {
      "name": "python3",
      "display_name": "Python 3"
    },
    "language_info": {
      "name": "python"
    }
  },
  "cells": [
    {
      "cell_type": "code",
      "execution_count": 19,
      "metadata": {
        "colab": {
          "base_uri": "https://localhost:8080/"
        },
        "id": "ttv7Nw5cH-aV",
        "outputId": "c9af6402-c3eb-4abc-f6a0-76ee80833769"
      },
      "outputs": [
        {
          "output_type": "stream",
          "name": "stdout",
          "text": [
            "Лифт 1 поднимается на этаж 2.\n",
            "Лифт 1 поднимается на этаж 3.\n",
            "Двери лифта 1 открыты на этаже 3.\n",
            "Лифт 1 перемещается на этаж 7.\n",
            "Двери лифта 1 закрыты.\n",
            "Лифт 1 поднимается на этаж 4.\n",
            "Лифт 1 поднимается на этаж 5.\n",
            "Лифт 1 не может подняться выше последнего этажа.\n",
            "Лифт 2 спускается на этаж 2.\n",
            "Двери лифта 2 открыты на этаже 2.\n",
            "Лифт 2 перемещается на этаж 1.\n",
            "Двери лифта 2 закрыты.\n",
            "Лифт 2 спускается на этаж 1.\n",
            "Двери лифта 2 открыты на этаже 1.\n"
          ]
        }
      ],
      "source": [
        "class ElevatorError(Exception):\n",
        "    \"\"\"Класс для исключения, выбрасываемого при ошибках лифта.\"\"\"\n",
        "    pass\n",
        "\n",
        "class Elevator:\n",
        "    def __init__(self, id, current_floor):\n",
        "        self.id = id\n",
        "        self.current_floor = current_floor\n",
        "        self.door_open = False\n",
        "        self.calls = []\n",
        "\n",
        "    def move_up(self):\n",
        "        if self.current_floor < top_floor:\n",
        "            print(f\"Лифт {self.id} поднимается на этаж {self.current_floor + 1}.\")\n",
        "            self.current_floor += 1\n",
        "        else:\n",
        "            raise ElevatorError(f\"Лифт {self.id} не может подняться выше последнего этажа.\")\n",
        "\n",
        "    def move_down(self):\n",
        "        if self.current_floor > 1:\n",
        "            print(f\"Лифт {self.id} спускается на этаж {self.current_floor - 1}.\")\n",
        "            self.current_floor -= 1\n",
        "        else:\n",
        "            raise ElevatorError(f\"Лифт {self.id} не может опуститься ниже первого этажа.\")\n",
        "\n",
        "    def open_doors(self):\n",
        "        self.door_open = True\n",
        "        print(f\"Двери лифта {self.id} открыты на этаже {self.current_floor}.\")\n",
        "\n",
        "    def close_doors(self):\n",
        "        self.door_open = False\n",
        "        print(f\"Двери лифта {self.id} закрыты.\")\n",
        "\n",
        "    def call(self, from_floor, to_floor):\n",
        "        self.calls.append((from_floor, to_floor))\n",
        "        self.process_calls()\n",
        "\n",
        "    def process_calls(self):\n",
        "        for from_floor, to_floor in self.calls:\n",
        "            while self.current_floor != from_floor:\n",
        "                try:\n",
        "                    if self.current_floor < from_floor:\n",
        "                        self.move_up()\n",
        "                    else:\n",
        "                        self.move_down()\n",
        "                except ElevatorError as e:\n",
        "                    print(e)\n",
        "                    return\n",
        "\n",
        "            self.open_doors()\n",
        "\n",
        "            if self.current_floor == from_floor:\n",
        "                print(f\"Лифт {self.id} перемещается на этаж {to_floor}.\")\n",
        "                self.close_doors()\n",
        "                while self.current_floor != to_floor:\n",
        "                    try:\n",
        "                        if self.current_floor < to_floor:\n",
        "                            self.move_up()\n",
        "                        else:\n",
        "                            self.move_down()\n",
        "                    except ElevatorError as e:\n",
        "                        print(e)\n",
        "                        return\n",
        "\n",
        "            self.open_doors()\n",
        "\n",
        "top_floor = 5\n",
        "\n",
        "elevator1 = Elevator(1, 1)\n",
        "elevator2 = Elevator(2, 3)\n",
        "\n",
        "elevator1.call(3, 7)\n",
        "elevator2.call(2, 1)"
      ]
    }
  ]
}